{
 "cells": [
  {
   "cell_type": "markdown",
   "metadata": {
    "extensions": {
     "jupyter_dashboards": {
      "version": 1,
      "views": {
       "grid_default": {
        "col": 0,
        "height": 4,
        "hidden": false,
        "row": 0,
        "width": 4
       },
       "report_default": {
        "hidden": false
       }
      }
     }
    },
    "slideshow": {
     "slide_type": "slide"
    }
   },
   "source": [
    "# Windrose"
   ]
  },
  {
   "cell_type": "code",
   "execution_count": null,
   "metadata": {
    "extensions": {
     "jupyter_dashboards": {
      "version": 1,
      "views": {
       "grid_default": {
        "hidden": true
       },
       "report_default": {}
      }
     }
    }
   },
   "outputs": [],
   "source": [
    "import netCDF4\n",
    "\n",
    "f = \"wrfout_d01.nc\"\n",
    "\n",
    "outfilename = \"wrfUV.nc\"\n",
    "\n",
    "in_nc = netCDF4(f, mode='r', format=\"NETCDF3_CLASSIC\")\n",
    "out_nc = netCDF4(outfilename, mode='w', format=\"NETCDF3_CLASSIC\")\n",
    "\n",
    "# Copy Global Attributes\n",
    "for att_name in in_nc.ncattrs():\n",
    "    setattr(out_nc, att_name, getattr(in_nc, att_name))\n",
    "\n",
    "# Copy Dimensions, but modify the vertical dimensions\n",
    "for dimname, dim in in_nc.dimensions.items():\n",
    "    out_nc.createDimension(dimname, len(dim))\n",
    "        \n",
    "# Copy Variables and their Attributes, using the reduced vertical dimension\n",
    "for varname, var in in_nc.variables.items():\n",
    "    if varname in (\"U\", \"V\", \"P\", \"XLAT\", \"XLONG\", \"XTIME\"):\n",
    "        datatype = var.datatype\n",
    "        dimensions = var.dimensions\n",
    "        shape = var.shape\n",
    "        \n",
    "        new_shape = shape\n",
    "        \n",
    "        new_var = out_nc.createVariable(varname, datatype, dimensions)\n",
    "        \n",
    "        new_var[:] = var[:]\n",
    "        \n",
    "        for att_name in var.ncattrs():\n",
    "            setattr(new_var, att_name, getattr(var, att_name))\n",
    "            \n",
    "in_nc.close()\n",
    "out_nc.close()"
   ]
  },
  {
   "cell_type": "code",
   "execution_count": 4,
   "metadata": {
    "extensions": {
     "jupyter_dashboards": {
      "version": 1,
      "views": {
       "grid_default": {
        "hidden": true
       },
       "report_default": {
        "hidden": true
       }
      }
     }
    }
   },
   "outputs": [],
   "source": [
    "from __future__ import print_function\n",
    "import netCDF4\n",
    "import wrf\n",
    "import windrose\n",
    "import numpy\n",
    "import matplotlib\n",
    "%matplotlib inline\n",
    "import matplotlib.animation\n",
    "import ipywidgets\n",
    "import IPython.display \n",
    "\n",
    "ncfile = netCDF4.Dataset(\"wrfUV.nc\")"
   ]
  },
  {
   "cell_type": "code",
   "execution_count": 3,
   "metadata": {
    "extensions": {
     "jupyter_dashboards": {
      "version": 1,
      "views": {
       "grid_default": {
        "hidden": true
       },
       "report_default": {}
      }
     }
    }
   },
   "outputs": [],
   "source": []
  },
  {
   "cell_type": "code",
   "execution_count": null,
   "metadata": {
    "extensions": {
     "jupyter_dashboards": {
      "version": 1,
      "views": {
       "grid_default": {
        "hidden": true
       },
       "report_default": {}
      }
     }
    }
   },
   "outputs": [],
   "source": []
  },
  {
   "cell_type": "code",
   "execution_count": null,
   "metadata": {
    "extensions": {
     "jupyter_dashboards": {
      "version": 1,
      "views": {
       "grid_default": {
        "hidden": true
       },
       "report_default": {
        "hidden": true
       }
      }
     }
    }
   },
   "outputs": [],
   "source": []
  },
  {
   "cell_type": "code",
   "execution_count": null,
   "metadata": {
    "extensions": {
     "jupyter_dashboards": {
      "version": 1,
      "views": {
       "grid_default": {
        "hidden": true
       },
       "report_default": {}
      }
     }
    }
   },
   "outputs": [],
   "source": []
  },
  {
   "cell_type": "code",
   "execution_count": null,
   "metadata": {
    "extensions": {
     "jupyter_dashboards": {
      "version": 1,
      "views": {
       "grid_default": {
        "hidden": true
       },
       "report_default": {}
      }
     }
    }
   },
   "outputs": [],
   "source": []
  },
  {
   "cell_type": "code",
   "execution_count": 5,
   "metadata": {
    "extensions": {
     "jupyter_dashboards": {
      "version": 1,
      "views": {
       "grid_default": {
        "col": 0,
        "height": 70,
        "hidden": false,
        "row": 4,
        "width": 4
       },
       "report_default": {}
      }
     }
    }
   },
   "outputs": [
    {
     "data": {
      "text/plain": [
       "array([[[  7.03830051,   6.06134748,   5.2927494 , ...,   7.16538954,\n",
       "           6.89305258,   7.01743603],\n",
       "        [  8.86670589,   6.41850281,   5.71640015, ...,   4.11433458,\n",
       "           2.89117074,   5.4950161 ],\n",
       "        [ 10.57899189,   6.84130955,   5.02981949, ...,   1.9991678 ,\n",
       "           2.33127093,   5.13581133],\n",
       "        ..., \n",
       "        [  5.03965664,   6.43416357,   6.09475422, ...,   2.10683084,\n",
       "           1.89265466,   1.4026171 ],\n",
       "        [  5.08885717,   6.06781435,   5.41861629, ...,   1.97418952,\n",
       "           2.01908302,   0.9927786 ],\n",
       "        [  5.1214819 ,   5.51015615,   5.07224035, ...,   1.53556156,\n",
       "           1.57553911,   1.97280443]],\n",
       "\n",
       "       [[  9.00567055,   7.93283653,   7.48407078, ...,   9.09790897,\n",
       "           9.01935387,   9.3504715 ],\n",
       "        [ 10.47212315,   8.15084934,   7.43056059, ...,   4.91137409,\n",
       "           4.83009672,   7.49126434],\n",
       "        [ 12.17402554,   8.90717983,   7.05489492, ...,   0.63702452,\n",
       "           3.53737998,   6.94883156],\n",
       "        ..., \n",
       "        [ 15.40377903,  13.06481934,  11.77738667, ...,   1.97794449,\n",
       "           1.77090049,   0.72015089],\n",
       "        [ 15.78959751,  12.8525486 ,  11.54069519, ...,   1.9014101 ,\n",
       "           1.53985107,   0.95033199],\n",
       "        [ 16.10242271,  14.34335136,  13.6578064 , ...,   1.57678401,\n",
       "           1.94059205,   2.25345063]],\n",
       "\n",
       "       [[  9.84865475,   8.85763645,   8.49637699, ...,  10.30577183,\n",
       "          10.24691772,  10.53462791],\n",
       "        [ 11.08137417,   8.88079453,   8.06389904, ...,   5.2506752 ,\n",
       "           5.98662519,   8.64432812],\n",
       "        [ 11.68008232,   8.98636818,   7.68700409, ...,   0.39767215,\n",
       "           4.31025791,   7.71717834],\n",
       "        ..., \n",
       "        [ 17.03611565,  15.55034256,  14.41810608, ...,   1.1838659 ,\n",
       "           1.03781724,   1.19492018],\n",
       "        [ 17.42387581,  15.28332043,  13.98246193, ...,   2.03191328,\n",
       "           2.16097999,   2.41518331],\n",
       "        [ 17.72701073,  16.29523468,  15.56455326, ...,   2.74222469,\n",
       "           3.32310796,   3.62737298]],\n",
       "\n",
       "       ..., \n",
       "       [[ 23.06320381,  22.70163345,  22.29474068, ...,  20.33730316,\n",
       "          20.4222393 ,  20.56721115],\n",
       "        [ 22.96312141,  22.41111755,  22.53746414, ...,  22.82890892,\n",
       "          23.24433136,  22.14705086],\n",
       "        [ 22.75532722,  21.49108505,  21.96693039, ...,  25.21720886,\n",
       "          25.94470596,  23.59717369],\n",
       "        ..., \n",
       "        [ 32.16748428,  33.28938293,  33.95901108, ...,  37.70087051,\n",
       "          36.52150726,  37.1819191 ],\n",
       "        [ 32.280056  ,  32.86907578,  33.27336121, ...,  39.50224686,\n",
       "          38.55622101,  38.17245865],\n",
       "        [ 31.86484718,  31.71284294,  31.82438087, ...,  40.59952545,\n",
       "          39.84404755,  38.85395432]],\n",
       "\n",
       "       [[ 25.13103104,  24.58471107,  24.09806252, ...,  20.84348488,\n",
       "          20.94378281,  21.06716537],\n",
       "        [ 25.27351952,  24.49404335,  24.48273659, ...,  22.91985893,\n",
       "          23.39046478,  22.515131  ],\n",
       "        [ 25.25729561,  23.78069305,  24.08212471, ...,  24.89364052,\n",
       "          25.74151802,  23.82889748],\n",
       "        ..., \n",
       "        [ 34.6869812 ,  35.82494354,  36.5655899 , ...,  37.57660294,\n",
       "          35.93903732,  36.42866898],\n",
       "        [ 34.40795898,  35.15885162,  35.74682236, ...,  39.31480026,\n",
       "          38.02464676,  37.43351746],\n",
       "        [ 33.59871292,  33.72535706,  34.05965424, ...,  40.31412125,\n",
       "          39.3968544 ,  38.21441269]],\n",
       "\n",
       "       [[ 26.47927094,  25.98613548,  25.61334038, ...,  21.89911079,\n",
       "          22.00177574,  22.08719826],\n",
       "        [ 26.54466248,  25.7493782 ,  25.82665062, ...,  23.74385452,\n",
       "          24.21341896,  23.41471291],\n",
       "        [ 26.46884727,  24.98508263,  25.34683418, ...,  25.54059792,\n",
       "          26.35652351,  24.61789513],\n",
       "        ..., \n",
       "        [ 37.23413086,  38.37120819,  39.17790985, ...,  36.390522  ,\n",
       "          34.56064606,  35.12086105],\n",
       "        [ 36.39425278,  37.30773926,  38.11061478, ...,  37.97238922,\n",
       "          36.53830719,  36.00622559],\n",
       "        [ 35.23617554,  35.67390823,  36.28167343, ...,  38.86274338,\n",
       "          37.9392662 ,  36.79481125]]], dtype=float32)"
      ]
     },
     "execution_count": 5,
     "metadata": {},
     "output_type": "execute_result"
    }
   ],
   "source": [
    "WSPD, WDIR = wrf.g_wind.get_destag_wspd_wdir(ncfile,units='m s-1')\n",
    "wspd = wrf.to_np(WSPD)\n",
    "wdir = wrf.to_np(WDIR)"
   ]
  },
  {
   "cell_type": "code",
   "execution_count": null,
   "metadata": {
    "extensions": {
     "jupyter_dashboards": {
      "version": 1,
      "views": {
       "grid_default": {
        "hidden": true
       },
       "report_default": {}
      }
     }
    }
   },
   "outputs": [],
   "source": []
  },
  {
   "cell_type": "code",
   "execution_count": 9,
   "metadata": {
    "extensions": {
     "jupyter_dashboards": {
      "version": 1,
      "views": {
       "grid_default": {
        "col": 4,
        "height": 11,
        "hidden": false,
        "row": 24,
        "width": 4
       },
       "report_default": {}
      }
     }
    }
   },
   "outputs": [
    {
     "data": {
      "application/vnd.jupyter.widget-view+json": {
       "model_id": "65c9a27246bc4bd0a62778cac699f902",
       "version_major": 2,
       "version_minor": 0
      },
      "text/html": [
       "<p>Failed to display Jupyter Widget of type <code>interactive</code>.</p>\n",
       "<p>\n",
       "  If you're reading this message in the Jupyter Notebook or JupyterLab Notebook, it may mean\n",
       "  that the widgets JavaScript is still loading. If this message persists, it\n",
       "  likely means that the widgets JavaScript library is either not installed or\n",
       "  not enabled. See the <a href=\"https://ipywidgets.readthedocs.io/en/stable/user_install.html\">Jupyter\n",
       "  Widgets Documentation</a> for setup instructions.\n",
       "</p>\n",
       "<p>\n",
       "  If you're reading this message in another frontend (for example, a static\n",
       "  rendering on GitHub or <a href=\"https://nbviewer.jupyter.org/\">NBViewer</a>),\n",
       "  it may mean that your frontend doesn't currently support widgets.\n",
       "</p>\n"
      ],
      "text/plain": [
       "interactive(children=(IntSlider(value=29, description='height', max=58), Output(layout=Layout(height='640px'))), _dom_classes=('widget-interact',))"
      ]
     },
     "metadata": {},
     "output_type": "display_data"
    }
   ],
   "source": [
    "def handle_slider_change(height, *args):\n",
    "    windrose.plot_windrose_np(wdir[height], var= wspd[height], \n",
    "                           kind='contourf', lw=6, nsector=16, bins = 6)\n",
    "    \n",
    "interactive_plot = ipywidgets.interactive(handle_slider_change, height= (0,wspd.shape[0]-1, 1))\n",
    "output = interactive_plot.children[-1]\n",
    "output.layout.height = '640px'   #set the height of the interactive plot so it won't change size\n",
    "interactive_plot"
   ]
  },
  {
   "cell_type": "code",
   "execution_count": null,
   "metadata": {
    "extensions": {
     "jupyter_dashboards": {
      "version": 1,
      "views": {
       "grid_default": {
        "col": 4,
        "height": 24,
        "hidden": false,
        "row": 0,
        "width": 4
       },
       "report_default": {
        "hidden": false
       }
      }
     }
    },
    "slideshow": {
     "slide_type": "slide"
    }
   },
   "outputs": [],
   "source": []
  },
  {
   "cell_type": "code",
   "execution_count": 12,
   "metadata": {
    "extensions": {
     "jupyter_dashboards": {
      "version": 1,
      "views": {
       "grid_default": {
        "col": 8,
        "height": 25,
        "hidden": false,
        "row": 0,
        "width": 4
       },
       "report_default": {
        "hidden": false
       }
      }
     }
    },
    "slideshow": {
     "slide_type": "slide"
    }
   },
   "outputs": [
    {
     "data": {
      "application/vnd.jupyter.widget-view+json": {
       "model_id": "178b7ba438584bdebfba075e09f13bea",
       "version_major": 2,
       "version_minor": 0
      },
      "text/html": [
       "<p>Failed to display Jupyter Widget of type <code>Button</code>.</p>\n",
       "<p>\n",
       "  If you're reading this message in the Jupyter Notebook or JupyterLab Notebook, it may mean\n",
       "  that the widgets JavaScript is still loading. If this message persists, it\n",
       "  likely means that the widgets JavaScript library is either not installed or\n",
       "  not enabled. See the <a href=\"https://ipywidgets.readthedocs.io/en/stable/user_install.html\">Jupyter\n",
       "  Widgets Documentation</a> for setup instructions.\n",
       "</p>\n",
       "<p>\n",
       "  If you're reading this message in another frontend (for example, a static\n",
       "  rendering on GitHub or <a href=\"https://nbviewer.jupyter.org/\">NBViewer</a>),\n",
       "  it may mean that your frontend doesn't currently support widgets.\n",
       "</p>\n"
      ],
      "text/plain": [
       "Button(description='save windrose', style=ButtonStyle())"
      ]
     },
     "metadata": {},
     "output_type": "display_data"
    },
    {
     "data": {
      "application/vnd.jupyter.widget-view+json": {
       "model_id": "730345502ed14a728c30ef6a3c0ff57a",
       "version_major": 2,
       "version_minor": 0
      },
      "text/html": [
       "<p>Failed to display Jupyter Widget of type <code>interactive</code>.</p>\n",
       "<p>\n",
       "  If you're reading this message in the Jupyter Notebook or JupyterLab Notebook, it may mean\n",
       "  that the widgets JavaScript is still loading. If this message persists, it\n",
       "  likely means that the widgets JavaScript library is either not installed or\n",
       "  not enabled. See the <a href=\"https://ipywidgets.readthedocs.io/en/stable/user_install.html\">Jupyter\n",
       "  Widgets Documentation</a> for setup instructions.\n",
       "</p>\n",
       "<p>\n",
       "  If you're reading this message in another frontend (for example, a static\n",
       "  rendering on GitHub or <a href=\"https://nbviewer.jupyter.org/\">NBViewer</a>),\n",
       "  it may mean that your frontend doesn't currently support widgets.\n",
       "</p>\n"
      ],
      "text/plain": [
       "interactive(children=(IntSlider(value=29, description='height', max=58), Output(layout=Layout(height='640px'))), _dom_classes=('widget-interact',))"
      ]
     },
     "metadata": {},
     "output_type": "display_data"
    }
   ],
   "source": [
    "button_save = ipywidgets.Button(description='save windrose')\n",
    "display(button_save)\n",
    "def on_button_clicked(b):\n",
    "    matplotlib.pyplot.savefig('windrose_h'+str(interactive_plot.children[0].value).zfill(len(str(wspd.shape[0])))+\n",
    "                              '.png')\n",
    "\n",
    "button_save.on_click(on_button_clicked)\n",
    "def handle_slider_change(height, *args):\n",
    "    windrose.plot_windrose_np(wdir[height], var= wspd[height], \n",
    "                           kind='contourf', lw=6, nsector=16, bins = 6)\n",
    "\n",
    "interactive_plot = ipywidgets.interactive(handle_slider_change, height= (0,wdir.shape[0]-1, 1))\n",
    "output = interactive_plot.children[-1]\n",
    "output.layout.height = '640px'  \n",
    "interactive_plot"
   ]
  },
  {
   "cell_type": "code",
   "execution_count": null,
   "metadata": {
    "extensions": {
     "jupyter_dashboards": {
      "version": 1,
      "views": {
       "grid_default": {
        "hidden": true
       },
       "report_default": {
        "hidden": true
       }
      }
     }
    }
   },
   "outputs": [],
   "source": []
  },
  {
   "cell_type": "code",
   "execution_count": null,
   "metadata": {
    "extensions": {
     "jupyter_dashboards": {
      "version": 1,
      "views": {
       "grid_default": {
        "hidden": true
       },
       "report_default": {}
      }
     }
    }
   },
   "outputs": [],
   "source": []
  },
  {
   "cell_type": "code",
   "execution_count": null,
   "metadata": {
    "extensions": {
     "jupyter_dashboards": {
      "version": 1,
      "views": {
       "grid_default": {
        "hidden": true
       },
       "report_default": {}
      }
     }
    }
   },
   "outputs": [],
   "source": []
  },
  {
   "cell_type": "code",
   "execution_count": null,
   "metadata": {
    "extensions": {
     "jupyter_dashboards": {
      "version": 1,
      "views": {
       "grid_default": {
        "hidden": true
       },
       "report_default": {}
      }
     }
    }
   },
   "outputs": [],
   "source": [
    "def drawwindrose(h,ax, title):\n",
    "    ax.set_title(title, fontsize=14)\n",
    "    cs = ax.contourf(wdir[h], wspd[h], nsector=16,lw=6)\n",
    "    ax.set_legend()\n",
    "    return cs\n",
    "def myanimate(h):   \n",
    "    ax = windrose.WindroseAxes.from_ax(fig=fig) \n",
    "    new_contour = drawwindrose(h,ax, 'Wind Speed Distribution: Frame %03d'%(h)) \n",
    "    return new_contour\n",
    "FFMpegWriter = matplotlib.animation.writers['ffmpeg']\n",
    "metadata = dict(title='Wind Speed Distribution from 2018-01-09T06:00:00', artist='Metos@UIO',\n",
    "                comment='Movie for Wind Speed Distribution from 2018-01-09T06:00:00')\n",
    "writer = FFMpegWriter(fps=20, metadata=metadata, bitrate=1800)\n",
    "\n",
    "fig= matplotlib.pyplot.figure(figsize=[10,10])\n",
    "\n",
    "ani = matplotlib.animation.FuncAnimation(fig, myanimate, frames=numpy.arange(wdir.shape[0]), \n",
    "                                         interval=50*wdir.shape[0])\n",
    "ani.save(\"writer_WindSpeedDistribution_200180109.mp4\", writer = writer)"
   ]
  },
  {
   "cell_type": "code",
   "execution_count": null,
   "metadata": {
    "extensions": {
     "jupyter_dashboards": {
      "version": 1,
      "views": {
       "grid_default": {
        "hidden": true
       },
       "report_default": {}
      }
     }
    }
   },
   "outputs": [],
   "source": [
    "IPython.display.HTML(ani.to_html5_video())"
   ]
  },
  {
   "cell_type": "code",
   "execution_count": null,
   "metadata": {
    "extensions": {
     "jupyter_dashboards": {
      "version": 1,
      "views": {
       "grid_default": {
        "hidden": true
       },
       "report_default": {}
      }
     }
    }
   },
   "outputs": [],
   "source": []
  },
  {
   "cell_type": "code",
   "execution_count": null,
   "metadata": {
    "extensions": {
     "jupyter_dashboards": {
      "version": 1,
      "views": {
       "grid_default": {
        "hidden": true
       },
       "report_default": {}
      }
     }
    }
   },
   "outputs": [],
   "source": []
  },
  {
   "cell_type": "code",
   "execution_count": null,
   "metadata": {
    "extensions": {
     "jupyter_dashboards": {
      "version": 1,
      "views": {
       "grid_default": {
        "hidden": true
       },
       "report_default": {}
      }
     }
    }
   },
   "outputs": [],
   "source": []
  },
  {
   "cell_type": "code",
   "execution_count": null,
   "metadata": {
    "extensions": {
     "jupyter_dashboards": {
      "version": 1,
      "views": {
       "grid_default": {
        "hidden": true
       },
       "report_default": {}
      }
     }
    }
   },
   "outputs": [],
   "source": []
  },
  {
   "cell_type": "code",
   "execution_count": null,
   "metadata": {
    "extensions": {
     "jupyter_dashboards": {
      "version": 1,
      "views": {
       "grid_default": {
        "hidden": true
       },
       "report_default": {}
      }
     }
    }
   },
   "outputs": [],
   "source": [
    "def handle_slider_change(height, *args):\n",
    "    ax = windrose.WindroseAxes.from_ax()\n",
    "    ax.bar(wdir[height],var=wspd[height],nsector=16,bins=6,\n",
    "           normed=True, opening=0.8, edgecolor='white')\n",
    "    ax.set_legend()\n",
    "    ax.set_title('Wind Speed Distribution: Frame %03d'%(height),fontsize=14)\n",
    "    #windrose.plot_windrose_np(numpy.rad2deg(direction[height]),var=speed[height],kind='contourf',lw=6,nsector=16,bins=6)\n",
    "interactive_plot = ipywidgets.interactive(handle_slider_change, height= (0, wspd.shape[0]-1, 1))\n",
    "output = interactive_plot.children[-1]\n",
    "output.layout.height = '640px'   #set the height of the interactive plot so it won't change size\n",
    "interactive_plot"
   ]
  },
  {
   "cell_type": "code",
   "execution_count": null,
   "metadata": {
    "extensions": {
     "jupyter_dashboards": {
      "version": 1,
      "views": {
       "grid_default": {
        "hidden": true
       },
       "report_default": {}
      }
     }
    }
   },
   "outputs": [],
   "source": [
    "button_save = ipywidgets.Button(description='save windrose')\n",
    "display(button_save)\n",
    "def on_button_clicked(b):\n",
    "    matplotlib.pyplot.savefig('windrose_h'+str(interactive_plot.children[0].value).zfill(len(str(wspd.shape[0])))+\n",
    "                              '.png')\n",
    "\n",
    "button_save.on_click(on_button_clicked)\n",
    "def handle_slider_change(height, *args):\n",
    "    ax = windrose.WindroseAxes.from_ax()\n",
    "    ax.bar(wdir[height],var=wspd[height],nsector=16,bins=6,\n",
    "           normed=True, opening=0.8, edgecolor='white')\n",
    "    ax.set_legend()\n",
    "    ax.set_title('Wind Speed Distribution: Frame %03d'%(height),fontsize=14)\n",
    "\n",
    "interactive_plot = ipywidgets.interactive(handle_slider_change, height= (0,wspd.shape[0]-1, 1))\n",
    "output = interactive_plot.children[-1]\n",
    "output.layout.height = '640px'  \n",
    "interactive_plot"
   ]
  },
  {
   "cell_type": "code",
   "execution_count": null,
   "metadata": {
    "extensions": {
     "jupyter_dashboards": {
      "version": 1,
      "views": {
       "grid_default": {
        "hidden": true
       },
       "report_default": {}
      }
     }
    }
   },
   "outputs": [],
   "source": [
    "def drawwindrose(h,ax, title):\n",
    "    ax.set_title(title, fontsize=14)\n",
    "    cs = ax.bar(wdir[h],var=wspd[h],nsector=16,bins=6,normed=True, opening=0.8, edgecolor='white')\n",
    "    ax.set_legend()\n",
    "    return cs\n",
    "def myanimate(h):   \n",
    "    ax = windrose.WindroseAxes.from_ax(fig=fig) \n",
    "    new_contour = drawwindrose(h,ax, 'Wind Speed Distribution: Frame %03d'%(h)) \n",
    "    return new_contour\n",
    "FFMpegWriter = matplotlib.animation.writers['ffmpeg']\n",
    "metadata = dict(title='Wind Speed Distribution from 2018-01-09T06:00:00', artist='Metos@UIO',\n",
    "                comment='Movie for Wind Speed Distribution from 2018-01-09T06:00:00')\n",
    "writer = FFMpegWriter(fps=20, metadata=metadata, bitrate=1800)\n",
    "\n",
    "fig= matplotlib.pyplot.figure(figsize=[10,10])\n",
    "\n",
    "ani2 = matplotlib.animation.FuncAnimation(fig, myanimate, frames=numpy.arange(wdir.shape[0]), \n",
    "                                         interval=50*wdir.shape[0])\n",
    "ani2.save(\"writer_WindSpeedDistributionnormed_200180109.mp4\", writer = writer)"
   ]
  },
  {
   "cell_type": "code",
   "execution_count": null,
   "metadata": {
    "extensions": {
     "jupyter_dashboards": {
      "version": 1,
      "views": {
       "grid_default": {
        "hidden": true
       },
       "report_default": {}
      }
     }
    }
   },
   "outputs": [],
   "source": [
    "IPython.display.HTML(ani2.to_html5_video())"
   ]
  },
  {
   "cell_type": "code",
   "execution_count": null,
   "metadata": {
    "extensions": {
     "jupyter_dashboards": {
      "version": 1,
      "views": {
       "grid_default": {
        "hidden": true
       },
       "report_default": {}
      }
     }
    }
   },
   "outputs": [],
   "source": [
    "def css_styling(filepath):\n",
    "    styles = open(filepath, 'r').read()\n",
    "    return HTML(styles)\n",
    "css_styling('/styles/custom.css')"
   ]
  }
 ],
 "metadata": {
  "extensions": {
   "jupyter_dashboards": {
    "activeView": "grid_default",
    "version": 1,
    "views": {
     "grid_default": {
      "cellMargin": 10,
      "defaultCellHeight": 20,
      "maxColumns": 12,
      "name": "grid",
      "type": "grid"
     },
     "report_default": {
      "name": "report",
      "type": "report"
     }
    }
   }
  },
  "kernelspec": {
   "display_name": "Python 3",
   "language": "python",
   "name": "python3"
  },
  "language_info": {
   "codemirror_mode": {
    "name": "ipython",
    "version": 3
   },
   "file_extension": ".py",
   "mimetype": "text/x-python",
   "name": "python",
   "nbconvert_exporter": "python",
   "pygments_lexer": "ipython3",
   "version": "3.6.4"
  }
 },
 "nbformat": 4,
 "nbformat_minor": 2
}
