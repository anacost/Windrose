{
 "cells": [
  {
   "cell_type": "markdown",
   "metadata": {},
   "source": [
    "# Windrose"
   ]
  },
  {
   "cell_type": "code",
   "execution_count": 1,
   "metadata": {},
   "outputs": [],
   "source": [
    "from __future__ import print_function\n",
    "import netCDF4\n",
    "import wrf\n",
    "import windrose\n",
    "import numpy\n",
    "import matplotlib\n",
    "%matplotlib inline\n",
    "import ipywidgets\n",
    "\n",
    "ncfile = netCDF4.Dataset(\"wrfout_d01.nc\")"
   ]
  },
  {
   "cell_type": "code",
   "execution_count": 2,
   "metadata": {},
   "outputs": [],
   "source": [
    "U = wrf.getvar(ncfile, \"U\") # wind U velocity\n",
    "V = wrf.getvar(ncfile, \"V\") # wind V velocity\n",
    "U_ndarray = wrf.to_np(U)\n",
    "V_ndarray = wrf.to_np(V)\n",
    "speed = []\n",
    "direction = []\n",
    "for i in range(U_ndarray.shape[0]):\n",
    "    speed.append(numpy.sqrt(U_ndarray[i].flatten()**2 + V_ndarray[i].flatten()**2 ))  # in m/s\n",
    "    direction.append(numpy.arctan2(V_ndarray[i].flatten(), U_ndarray[i].flatten()))   #in radian"
   ]
  },
  {
   "cell_type": "code",
   "execution_count": 6,
   "metadata": {},
   "outputs": [
    {
     "data": {
      "application/vnd.jupyter.widget-view+json": {
       "model_id": "8a584079f5e646bcb88e06305e8c9112",
       "version_major": 2,
       "version_minor": 0
      },
      "text/html": [
       "<p>Failed to display Jupyter Widget of type <code>interactive</code>.</p>\n",
       "<p>\n",
       "  If you're reading this message in the Jupyter Notebook or JupyterLab Notebook, it may mean\n",
       "  that the widgets JavaScript is still loading. If this message persists, it\n",
       "  likely means that the widgets JavaScript library is either not installed or\n",
       "  not enabled. See the <a href=\"https://ipywidgets.readthedocs.io/en/stable/user_install.html\">Jupyter\n",
       "  Widgets Documentation</a> for setup instructions.\n",
       "</p>\n",
       "<p>\n",
       "  If you're reading this message in another frontend (for example, a static\n",
       "  rendering on GitHub or <a href=\"https://nbviewer.jupyter.org/\">NBViewer</a>),\n",
       "  it may mean that your frontend doesn't currently support widgets.\n",
       "</p>\n"
      ],
      "text/plain": [
       "interactive(children=(IntSlider(value=29, description='height', max=58), Output(layout=Layout(height='650px'))), _dom_classes=('widget-interact',))"
      ]
     },
     "metadata": {},
     "output_type": "display_data"
    }
   ],
   "source": [
    "def handle_slider_change(height, *args):\n",
    "    windrose.plot_windrose_np(numpy.rad2deg(direction[height]), var= speed[height], \n",
    "                           kind='contourf', lw=6, nsector=16)\n",
    "    \n",
    "interactive_plot = ipywidgets.interactive(handle_slider_change, height= (0,U_ndarray.shape[0]-1, 1))\n",
    "output = interactive_plot.children[-1]\n",
    "output.layout.height = '650px'   #set the height of the interactive plot so it won't change size\n",
    "interactive_plot"
   ]
  },
  {
   "cell_type": "code",
   "execution_count": 4,
   "metadata": {},
   "outputs": [
    {
     "data": {
      "application/vnd.jupyter.widget-view+json": {
       "model_id": "13224929091c4d6f89fc748591be57fc",
       "version_major": 2,
       "version_minor": 0
      },
      "text/html": [
       "<p>Failed to display Jupyter Widget of type <code>Button</code>.</p>\n",
       "<p>\n",
       "  If you're reading this message in the Jupyter Notebook or JupyterLab Notebook, it may mean\n",
       "  that the widgets JavaScript is still loading. If this message persists, it\n",
       "  likely means that the widgets JavaScript library is either not installed or\n",
       "  not enabled. See the <a href=\"https://ipywidgets.readthedocs.io/en/stable/user_install.html\">Jupyter\n",
       "  Widgets Documentation</a> for setup instructions.\n",
       "</p>\n",
       "<p>\n",
       "  If you're reading this message in another frontend (for example, a static\n",
       "  rendering on GitHub or <a href=\"https://nbviewer.jupyter.org/\">NBViewer</a>),\n",
       "  it may mean that your frontend doesn't currently support widgets.\n",
       "</p>\n"
      ],
      "text/plain": [
       "Button(description='save windrose', style=ButtonStyle())"
      ]
     },
     "metadata": {},
     "output_type": "display_data"
    },
    {
     "data": {
      "application/vnd.jupyter.widget-view+json": {
       "model_id": "196a94ce5b4c4c30bb3c5e466970e67f",
       "version_major": 2,
       "version_minor": 0
      },
      "text/html": [
       "<p>Failed to display Jupyter Widget of type <code>interactive</code>.</p>\n",
       "<p>\n",
       "  If you're reading this message in the Jupyter Notebook or JupyterLab Notebook, it may mean\n",
       "  that the widgets JavaScript is still loading. If this message persists, it\n",
       "  likely means that the widgets JavaScript library is either not installed or\n",
       "  not enabled. See the <a href=\"https://ipywidgets.readthedocs.io/en/stable/user_install.html\">Jupyter\n",
       "  Widgets Documentation</a> for setup instructions.\n",
       "</p>\n",
       "<p>\n",
       "  If you're reading this message in another frontend (for example, a static\n",
       "  rendering on GitHub or <a href=\"https://nbviewer.jupyter.org/\">NBViewer</a>),\n",
       "  it may mean that your frontend doesn't currently support widgets.\n",
       "</p>\n"
      ],
      "text/plain": [
       "interactive(children=(IntSlider(value=29, description='h', max=58), Output(layout=Layout(height='650px'))), _dom_classes=('widget-interact',))"
      ]
     },
     "metadata": {},
     "output_type": "display_data"
    }
   ],
   "source": [
    "button_save = ipywidgets.Button(description='save windrose')\n",
    "display(button_save)\n",
    "def on_button_clicked(b):\n",
    "    matplotlib.pyplot.savefig('windrose_h'+str(interactive_plot.children[0].value)+'.png')\n",
    "\n",
    "button_save.on_click(on_button_clicked)\n",
    "def handle_slider_change(h, *args):\n",
    "    windrose.plot_windrose_np(numpy.rad2deg(direction[height]), var= speed[height], \n",
    "                           kind='contourf', lw=6, nsector=16)\n",
    "\n",
    "interactive_plot = ipywidgets.interactive(handle_slider_change, height= (0,U_ndarray.shape[0]-1, 1))\n",
    "output = interactive_plot.children[-1]\n",
    "output.layout.height = '650px'  \n",
    "interactive_plot"
   ]
  },
  {
   "cell_type": "code",
   "execution_count": null,
   "metadata": {},
   "outputs": [],
   "source": []
  }
 ],
 "metadata": {
  "kernelspec": {
   "display_name": "Python 3",
   "language": "python",
   "name": "python3"
  },
  "language_info": {
   "codemirror_mode": {
    "name": "ipython",
    "version": 3
   },
   "file_extension": ".py",
   "mimetype": "text/x-python",
   "name": "python",
   "nbconvert_exporter": "python",
   "pygments_lexer": "ipython3",
   "version": "3.6.4"
  }
 },
 "nbformat": 4,
 "nbformat_minor": 2
}
